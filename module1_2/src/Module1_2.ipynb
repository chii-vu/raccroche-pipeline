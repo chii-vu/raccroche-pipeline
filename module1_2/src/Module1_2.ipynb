{
 "cells": [
  {
   "cell_type": "markdown",
   "metadata": {},
   "source": [
    "# RACCROCHE - Module 1 & 2\n",
    "This is a full workflow that shows methods regarding the construction of gene families, listing of candidate adjacencies and construction of ancestral contigs using Maximum Weight Matching."
   ]
  },
  {
   "cell_type": "markdown",
   "metadata": {},
   "source": [
    "# Section 1: Importing Libraries, Modules and Configuration File"
   ]
  },
  {
   "cell_type": "code",
   "execution_count": 1,
   "metadata": {},
   "outputs": [],
   "source": [
    "# setting the Notebook Display Method\n",
    "%matplotlib inline"
   ]
  },
  {
   "cell_type": "code",
   "execution_count": 2,
   "metadata": {},
   "outputs": [
    {
     "name": "stdout",
     "output_type": "stream",
     "text": [
      "Requirement already satisfied: tqdm-joblib in c:\\users\\16132\\anaconda3\\lib\\site-packages (0.0.2)\n",
      "Requirement already satisfied: tqdm in c:\\users\\16132\\anaconda3\\lib\\site-packages (from tqdm-joblib) (4.59.0)\n",
      "Note: you may need to restart the kernel to use updated packages.\n",
      "^C\n",
      "Note: you may need to restart the kernel to use updated packages.\n"
     ]
    }
   ],
   "source": [
    "# install tqdm-joblib\n",
    "%pip install tqdm-joblib\n",
    "\n",
    "# install Bio\n",
    "%pip install Bio"
   ]
  },
  {
   "cell_type": "code",
   "execution_count": 2,
   "metadata": {},
   "outputs": [],
   "source": [
    "# import libraries\n",
    "import sys\n",
    "import yaml\n",
    "import time\n",
    "import os\n",
    "import io\n",
    "\n",
    "import pandas as pd\n",
    "import seaborn as sns\n",
    "import matplotlib\n",
    "import matplotlib.pyplot as plt\n",
    "from Bio import Phylo\n",
    "from scipy.spatial.distance import squareform\n",
    "\n",
    "from tqdm import tqdm\n",
    "import tqdm_joblib\n",
    "from joblib import Parallel, delayed\n",
    "\n",
    "# import modules\n",
    "#? eventually the below list will be in your package\n",
    "from GeneFamily import GeneFamily\n",
    "from Genome import Genome\n",
    "from MWMInputTreeNode import MWMInputTreeNode\n",
    "from mwmatching import *\n",
    "from Contig import *"
   ]
  },
  {
   "cell_type": "markdown",
   "metadata": {},
   "source": [
    "## Parsing the Configuration File\n",
    "\n",
    "The configuration file consists of a list of input/output directories, input files and parameters to the pipeline. \n",
    "\n",
    "Specifications for Input:\n",
    "- leaf_genome_info: the input genomes with their positions on the phylogenetic tree, i.e. *Genomes.txt* <br>\n",
    "- synteny_file_name: the post-fix of the synmap output of pairwise genome comparisons; <br>\n",
    "- synteny_file_path: the path to the synmap output data <br>\n",
    "- phylo_tree_path: the path to the Newick Phylogenetic Tree structure <br>\n",
    "- jar_path: the path to the UniMoG jar file <br> \n",
    "\n",
    "__Note__: The input genomes is in the *Genomes.txt* file. \n",
    "It contains the information about input genomes, including CoGe ID, genomeName, ancestor<br>\n",
    "The phylogenetic relationship is in the *phyloTree* file. \n",
    "It includes the unrooted phylogenetic tree in newick format where each tree leaf is denoted as name_CoGeID. <br>\n",
    "Sample Newick Tree for the monocot project: ( ( (Spirodela_51364, Acorus_54711), Dioscorea_51051), ( (Ananas_25734, Elaeis_33018), Asparagus_33908) )\n",
    "\n",
    "Specifications for Output:\n",
    "- gene_list: path where the gene list output should be created <br>\n",
    "- gene_family: path where the gene family output should be created <br>\n",
    "- genomes: path where the genome string output should be created <br>\n",
    "- mwm_input_template: path and template for the output files created from MWM Input step <br>\n",
    "- mwm_output_template: path and template for the output files created from MWM <br>\n",
    "- contig_template: path and template for the output files created from constructing contigs <br>\n",
    "- dcj_output_path: path to the output file when calculating DCJ distance between ancestors <br>\n",
    "- dcj_summary_path: path to the output file containing a summary of the DCJ calculations <br><br>\n",
    "\n",
    "Global parameters:\n",
    "- min_cutoff_weight: minimum similarity cutoff weight for gene family construction, i.e. *min_cutoff_weight=65*\n",
    "- max_cutoff_weight: maximum similarity cutoff weight for gene family construction, i.e. *max_cutoff_weight=100*\n",
    "- ws: window size, i.e. *ws=7*\n",
    "- min_mwm_weight: minimum adjacency weight to be considered for maximum weight matching, i.e. *min_mwm_weight=100*\n",
    "- gf1: maximum number of genes in a gene family, i.e. *gf1=50*\n",
    "- gf2: the maximum number of genes from a genome in a gene family, i.e. *gf2=10*\n",
    "- gf3: the minimum number of genomes in a gene family, i.e. *gf3=1*"
   ]
  },
  {
   "cell_type": "code",
   "execution_count": 3,
   "metadata": {},
   "outputs": [
    {
     "name": "stdout",
     "output_type": "stream",
     "text": [
      "Project Name and Input Directory: ../inputData/project-buxus\n",
      "Project Name and Output Directory: ../outputData/project-buxus\n",
      "Please check required input data under the Input Directory:\n",
      "\t 1. Genome.txt with info about input genomes\n",
      "\t 2. phyloTree.txt with Newick Tree Structure\n",
      "\t 3. SynMap results between every pair of genomes\n",
      "\n"
     ]
    }
   ],
   "source": [
    "# specify your Project Name\n",
    "\n",
    "proj_name = \"buxus\"\n",
    "\n",
    "# reading from the configuration file\n",
    "config_file = \"../inputData/project-\" + proj_name + \"/config.yaml\"\n",
    "\n",
    "with open(config_file, 'r') as stream:\n",
    "    parsed_config = yaml.load(stream, Loader=yaml.FullLoader)\n",
    "    \n",
    "directory = parsed_config['output_path'] + parsed_config['project_name'] \n",
    "os.makedirs(directory, exist_ok = True)\n",
    "    \n",
    "print(\"Project Name and Input Directory:\", parsed_config['input_path'] + parsed_config['project_name'])   \n",
    "print(\"Project Name and Output Directory:\", parsed_config['output_path'] + parsed_config['project_name'])  \n",
    "print('''Please check required input data under the Input Directory:\n",
    "\\t 1. Genome.txt with info about input genomes\n",
    "\\t 2. phyloTree.txt with Newick Tree Structure\n",
    "\\t 3. SynMap results between every pair of genomes\n",
    "''')\n",
    "#print(\"Project input data directory:\", parsed_config['input_file']['synteny_file_path'])    \n",
    "#print(\"Input extant genomes info:\", parsed_config['input_file']['leaf_genome_info'])\n",
    "#print(\"The postfix of SynMap output files:\", parsed_config['input_file']['synteny_file_name'])"
   ]
  },
  {
   "cell_type": "markdown",
   "metadata": {},
   "source": [
    "# Section 2: Constructing Gene Families from syntenically validated orthologs from SynMap\n",
    "In order to succesfully construct gene families, we require:\n",
    "- Successful parsing of the configuration file <br>\n",
    "- Valid parameters in the configuration file"
   ]
  },
  {
   "cell_type": "markdown",
   "metadata": {},
   "source": [
    "## Reading in Input Genome Data and Tree Structure Data\n",
    "Each genome is a leaf of the input phylogenetic tree. The *get_leaves_and_tree_info()* method extracts the following attribute of each genome from the input file specified by *leaf_genome_info* parameter in the configuration file.\n",
    ">1) genome ID; <br>\n",
    ">2) genome name; <br>\n",
    ">3) most recent ancestor; <br>\n",
    ">4) number of chromosomes; <br>\n",
    ">5) file name of the genome annotations; <br>\n",
    ">6) desired tree structure in Newick format."
   ]
  },
  {
   "cell_type": "code",
   "execution_count": 4,
   "metadata": {},
   "outputs": [
    {
     "name": "stdout",
     "output_type": "stream",
     "text": [
      "Extant genomes to be analyzed in this project: \n",
      "\n"
     ]
    },
    {
     "data": {
      "text/html": [
       "<div>\n",
       "<style scoped>\n",
       "    .dataframe tbody tr th:only-of-type {\n",
       "        vertical-align: middle;\n",
       "    }\n",
       "\n",
       "    .dataframe tbody tr th {\n",
       "        vertical-align: top;\n",
       "    }\n",
       "\n",
       "    .dataframe thead th {\n",
       "        text-align: right;\n",
       "    }\n",
       "</style>\n",
       "<table border=\"1\" class=\"dataframe\">\n",
       "  <thead>\n",
       "    <tr style=\"text-align: right;\">\n",
       "      <th></th>\n",
       "      <th>Genome Name</th>\n",
       "      <th>Ancestor</th>\n",
       "    </tr>\n",
       "    <tr>\n",
       "      <th>Genome ID</th>\n",
       "      <th></th>\n",
       "      <th></th>\n",
       "    </tr>\n",
       "  </thead>\n",
       "  <tbody>\n",
       "    <tr>\n",
       "      <th>19990</th>\n",
       "      <td>Vitis</td>\n",
       "      <td>3</td>\n",
       "    </tr>\n",
       "    <tr>\n",
       "      <th>28620</th>\n",
       "      <td>Aquilegea</td>\n",
       "      <td>1</td>\n",
       "    </tr>\n",
       "    <tr>\n",
       "      <th>35405</th>\n",
       "      <td>Nelumbo</td>\n",
       "      <td>1</td>\n",
       "    </tr>\n",
       "    <tr>\n",
       "      <th>54057</th>\n",
       "      <td>Amaranthus</td>\n",
       "      <td>3</td>\n",
       "    </tr>\n",
       "    <tr>\n",
       "      <th>57266</th>\n",
       "      <td>Tetracentron</td>\n",
       "      <td>2</td>\n",
       "    </tr>\n",
       "    <tr>\n",
       "      <th>57268</th>\n",
       "      <td>Buxus</td>\n",
       "      <td>2</td>\n",
       "    </tr>\n",
       "  </tbody>\n",
       "</table>\n",
       "</div>"
      ],
      "text/plain": [
       "            Genome Name Ancestor\n",
       "Genome ID                       \n",
       "19990             Vitis        3\n",
       "28620         Aquilegea        1\n",
       "35405           Nelumbo        1\n",
       "54057        Amaranthus        3\n",
       "57266      Tetracentron        2\n",
       "57268             Buxus        2"
      ]
     },
     "execution_count": 4,
     "metadata": {},
     "output_type": "execute_result"
    }
   ],
   "source": [
    "# reading in input genome info\n",
    "gene_family = GeneFamily(parsed_config)\n",
    "all_leaves, median_structure, newick_structure = gene_family.get_leaves_and_tree_info()\n",
    "\n",
    "print(\"Extant genomes to be analyzed in this project: \\n\")\n",
    "\n",
    "genomes = pd.DataFrame(all_leaves)\n",
    "display = genomes.iloc[:, :3]\n",
    "\n",
    "display.columns = ['Genome ID', 'Genome Name', 'Ancestor']\n",
    "display.set_index('Genome ID', inplace = True, drop = True)\n",
    "\n",
    "display"
   ]
  },
  {
   "cell_type": "code",
   "execution_count": 5,
   "metadata": {},
   "outputs": [
    {
     "data": {
      "image/png": "[encoded data removed]",
      "text/plain": [
       "<Figure size 800x500 with 1 Axes>"
      ]
     },
     "metadata": {
      "needs_background": "light"
     },
     "output_type": "display_data"
    }
   ],
   "source": [
    "tree = Phylo.read(io.StringIO(newick_structure), \"newick\")\n",
    "\n",
    "matplotlib.rc('font', size=8)\n",
    "fig = plt.figure(figsize=(8, 5), dpi=100)\n",
    "axes = fig.add_subplot(1, 1, 1)\n",
    "axes.set_facecolor('white')\n",
    "\n",
    "Phylo.draw(tree, axes = axes)"
   ]
  },
  {
   "cell_type": "markdown",
   "metadata": {},
   "source": [
    "## Creating gene families from syntenically validated homology generated from SynMap\n",
    "\n",
    "Read in all genes for every genome, record gene-related information and use gf1 (from config file), cutoff weights in order to create gene families.\n"
   ]
  },
  {
   "cell_type": "code",
   "execution_count": 6,
   "metadata": {},
   "outputs": [
    {
     "name": "stdout",
     "output_type": "stream",
     "text": [
      "[['19990', 'Vitis', '3', '19'], ['28620', 'Aquilegea', '1', '7'], ['35405', 'Nelumbo', '1', '8'], ['54057', 'Amaranthus', '3', '16'], ['57266', 'Tetracentron', '2', '19'], ['57268', 'Buxus', '2', '14']]\n",
      "Requirement already satisfied: Bio in c:\\users\\16132\\anaconda3\\lib\\site-packages (1.4.0)\n",
      "Requirement already satisfied: mygene in c:\\users\\16132\\anaconda3\\lib\\site-packages (from Bio) (3.2.2)\n",
      "Requirement already satisfied: tqdm in c:\\users\\16132\\anaconda3\\lib\\site-packages (from Bio) (4.59.0)\n",
      "Requirement already satisfied: requests in c:\\users\\16132\\anaconda3\\lib\\site-packages (from Bio) (2.25.1)\n",
      "Requirement already satisfied: biopython>=1.79 in c:\\users\\16132\\anaconda3\\lib\\site-packages (from Bio) (1.79)\n",
      "Requirement already satisfied: numpy in c:\\users\\16132\\anaconda3\\lib\\site-packages (from biopython>=1.79->Bio) (1.20.1)\n",
      "Requirement already satisfied: biothings-client>=0.2.6 in c:\\users\\16132\\anaconda3\\lib\\site-packages (from mygene->Bio) (0.2.6)\n",
      "Requirement already satisfied: urllib3<1.27,>=1.21.1 in c:\\users\\16132\\anaconda3\\lib\\site-packages (from requests->Bio) (1.26.4)\n",
      "Requirement already satisfied: certifi>=2017.4.17 in c:\\users\\16132\\anaconda3\\lib\\site-packages (from requests->Bio) (2020.12.5)\n",
      "Requirement already satisfied: idna<3,>=2.5 in c:\\users\\16132\\anaconda3\\lib\\site-packages (from requests->Bio) (2.10)\n",
      "Requirement already satisfied: chardet<5,>=3.0.2 in c:\\users\\16132\\anaconda3\\lib\\site-packages (from requests->Bio) (4.0.0)\n",
      "6\n"
     ]
    }
   ],
   "source": [
    "print(all_leaves)\n",
    "# creating gene families\n",
    "gene_family.make_gene_family(all_leaves)\n",
    "\n",
    "print(len(all_leaves))"
   ]
  },
  {
   "cell_type": "markdown",
   "metadata": {},
   "source": [
    "## Visualizing Gene Families\n",
    "In the configuration file *config.yaml*, there are three parameters to restrict the size of gene families: \n",
    "- gf1: the maximum number of genes in a gene family\n",
    "- gf2: the maximum number of genes from a single genome in a gene family\n",
    "- gf3: the minimum number of genomes in a gene family <br>"
   ]
  },
  {
   "cell_type": "code",
   "execution_count": 7,
   "metadata": {},
   "outputs": [
    {
     "name": "stdout",
     "output_type": "stream",
     "text": [
      "Total number of gene familes: 13649\n",
      "The size of the largest gene family: 49\n"
     ]
    }
   ],
   "source": [
    "families = list(gene_family.gene_family.keys())\n",
    "\n",
    "values = list(gene_family.gene_family.values())\n",
    "lengths = [len(values[i]) for i in range(0, len(values))]\n",
    "\n",
    "print(\"Total number of gene familes:\", len(families))\n",
    "print(\"The size of the largest gene family:\", max(lengths))"
   ]
  },
  {
   "cell_type": "code",
   "execution_count": 8,
   "metadata": {},
   "outputs": [
    {
     "data": {
      "image/png": "[encoded data removed]",
      "text/plain": [
       "<Figure size 432x288 with 1 Axes>"
      ]
     },
     "metadata": {},
     "output_type": "display_data"
    }
   ],
   "source": [
    "sns.set(style=\"darkgrid\")\n",
    "family_dict = {'label': families, 'lengths': lengths}\n",
    "pdfamily = pd.DataFrame(family_dict)\n",
    "\n",
    "fig=sns.histplot(data = pdfamily, x = \"lengths\", binwidth = 3).set(title = \"Overview of Gene Families\")\n",
    "\n",
    "plt.xlabel(\"Number of genes in a gene family\")\n",
    "plt.ylabel(\"Frequency\")\n",
    "plt.show(fig)"
   ]
  },
  {
   "cell_type": "markdown",
   "metadata": {},
   "source": [
    "# Section 3: Representing Genomes by Gene Family Labels\n",
    "In order to succesfully separate the input data (genes) into respective chromosomes and genomes, we require:\n",
    "- Successful creation of gene families"
   ]
  },
  {
   "cell_type": "markdown",
   "metadata": {},
   "source": [
    "## Grouping Genes and their ordering by Chromosomes then Chromosomes by Genomes"
   ]
  },
  {
   "cell_type": "code",
   "execution_count": 9,
   "metadata": {},
   "outputs": [],
   "source": [
    "# creating an instance of the Genome class\n",
    "initialize_genome = Genome(gene_family.gene_list, all_leaves, parsed_config)"
   ]
  },
  {
   "cell_type": "code",
   "execution_count": 10,
   "metadata": {},
   "outputs": [],
   "source": [
    "# separating each genome's genes into chromosomes\n",
    "genome = initialize_genome.get_genome_in_string()"
   ]
  },
  {
   "cell_type": "markdown",
   "metadata": {},
   "source": [
    "## Visualizing Genes Families in Chromosomes of extant genomes"
   ]
  },
  {
   "cell_type": "code",
   "execution_count": 11,
   "metadata": {},
   "outputs": [],
   "source": [
    "genomes, chromosomes, gene_lengths = [], [], []\n",
    "genome_lengths = []\n",
    "num_chr = []\n",
    "\n",
    "for key, value in genome.items():\n",
    "    current_lengths = 0\n",
    "    \n",
    "    for genome_id in all_leaves:\n",
    "        if int(genome_id[0]) == int(key):\n",
    "            genome_name = genome_id[1]\n",
    "            num_chromosomes = int(genome_id[3])\n",
    "            num_chr.append(int(num_chromosomes))\n",
    "            \n",
    "    for i, chromosome in enumerate(value):            \n",
    "        genomes.append(genome_name)\n",
    "        gene_lengths.append(len(chromosome))\n",
    "        current_lengths += 1\n",
    "        \n",
    "    chromosomes.extend(range(1, num_chromosomes + 1))\n",
    "        \n",
    "    genome_lengths.append(current_lengths)\n",
    "                \n",
    "#print(chromosomes)"
   ]
  },
  {
   "cell_type": "code",
   "execution_count": 12,
   "metadata": {},
   "outputs": [],
   "source": [
    "length_index = 0\n",
    "\n",
    "# removing short scaffolds for visualization\n",
    "for i, lengths in enumerate(genome_lengths):\n",
    "    left = length_index\n",
    "    right = length_index + genome_lengths[i]\n",
    "    \n",
    "    gene_lengths[left:right] = sorted(gene_lengths[left:right], reverse = True)\n",
    "    del gene_lengths[left + num_chr[i] : right]\n",
    "    del genomes[left + num_chr[i] : right]\n",
    "    \n",
    "    length_index += num_chr[i]"
   ]
  },
  {
   "cell_type": "code",
   "execution_count": 13,
   "metadata": {},
   "outputs": [
    {
     "name": "stdout",
     "output_type": "stream",
     "text": [
      "Visualizing the number of gene families in each chromosome of each genome\n"
     ]
    },
    {
     "name": "stderr",
     "output_type": "stream",
     "text": [
      "/Users/lij313/opt/anaconda3/lib/python3.8/site-packages/seaborn/categorical.py:3803: UserWarning: Setting `sharex=False` with `color=None` may cause different levels of the `x` variable to share colors. This will change in a future version.\n",
      "  warnings.warn(msg.format(\"sharex\", \"x\"), UserWarning)\n"
     ]
    },
    {
     "data": {
      "text/plain": [
       "<seaborn.axisgrid.FacetGrid at 0x7fd20ac48250>"
      ]
     },
     "execution_count": 13,
     "metadata": {},
     "output_type": "execute_result"
    },
    {
     "data": {
      "image/png": "[encoded data removed]",
      "text/plain": [
       "<Figure size 1512x360 with 6 Axes>"
      ]
     },
     "metadata": {},
     "output_type": "display_data"
    }
   ],
   "source": [
    "print(\"Visualizing the number of gene families in each chromosome of each genome\")\n",
    "\n",
    "data = {'genome': genomes, 'chromosome number': chromosomes, 'number of gene families': gene_lengths}\n",
    "\n",
    "pddata = pd.DataFrame(data)\n",
    "\n",
    "sns.set(style=\"darkgrid\")\n",
    "\n",
    "g = sns.catplot(x = 'chromosome number', y = 'number of gene families', col = 'genome', data = pddata, kind=\"bar\", aspect = .7, sharex = False, dodge = False)\n",
    "g.set_xticklabels(rotation = 30)"
   ]
  },
  {
   "cell_type": "markdown",
   "metadata": {},
   "source": [
    "# Section 4: Extract gene proximity (or adjacencies) from each extant genome\n",
    "\n",
    "Identify generalized gene adjacencies with a user specified window/gap size. The size parameter (*ws*) is defined in the configuration file. \n",
    "In order to succesfully prepare adjacency data for the Maximum Weight Matching algorithm, we require:\n",
    "- Successful separation of input data"
   ]
  },
  {
   "cell_type": "markdown",
   "metadata": {},
   "source": [
    "## Collecting Gene Adjacencies for Maximum Weight Matching\n",
    "\n",
    "Adjacencies are extracted from gene orders in each extant genome. <br>\n",
    "A large number of (generalized) adjacencies is collected for each ancestor defined in *median_structure*. \n",
    "\n",
    "\n",
    "Number of edges are the same since the number of genes and window size is consistent for each ancestor. However, the weights will be different."
   ]
  },
  {
   "cell_type": "code",
   "execution_count": 14,
   "metadata": {
    "scrolled": true
   },
   "outputs": [
    {
     "name": "stderr",
     "output_type": "stream",
     "text": [
      "100%|██████████| 4/4 [00:03<00:00,  1.27it/s]\n"
     ]
    }
   ],
   "source": [
    "# preparing data for maximum weight matching + maximum weight matching\n",
    "window_size = parsed_config['ws']\n",
    "min_adj_weight = parsed_config['min_mwm_weight']\n",
    "num_gene_families = len(gene_family.gene_family)\n",
    "\n",
    "input_tree_node = MWMInputTreeNode(genome, all_leaves)\n",
    "\n",
    "mwmin_output_template = parsed_config['output_file']['mwm_input_template']\n",
    "\n",
    "num_anc = 1\n",
    "mwm_inputs = [None] * len(median_structure)\n",
    "\n",
    "for i, structure in tqdm(enumerate(median_structure), total=len(mwm_inputs)):\n",
    "    outfile_mwmin = directory + mwmin_output_template + str(num_anc) + \".txt\"\n",
    "    mwm_inputs[num_anc - 1] = input_tree_node.get_mwm_input(structure, num_gene_families, window_size, min_adj_weight, outfile_mwmin)\n",
    "    num_anc += 1"
   ]
  },
  {
   "cell_type": "markdown",
   "metadata": {},
   "source": [
    "# Section 5: Maximum Weight Matching\n",
    "In order to successfully complete the Maximum Weight Matching algorithm, we require:\n",
    "- Successful preparation of Maximum Weight Matching Input Data"
   ]
  },
  {
   "cell_type": "markdown",
   "metadata": {},
   "source": [
    "## Maximum Weight Matching\n"
   ]
  },
  {
   "cell_type": "markdown",
   "metadata": {},
   "source": [
    "Produces the result of Maximum Weight Matching for each ancestor. <br>\n",
    "This step is computationally expensive. <br>\n",
    "Uses multiprocessing to speed up the process."
   ]
  },
  {
   "cell_type": "code",
   "execution_count": 15,
   "metadata": {},
   "outputs": [],
   "source": [
    "# The path of output file in general form\n",
    "mwm_output_template = parsed_config['output_file']['mwm_output_template']\n",
    "\n",
    "def mwm_matching(mwm_input, num_anc):\n",
    "    outfile_mwmout = directory + mwm_output_template + str(num_anc) + \".txt\"\n",
    "    maxWeightMatching(mwm_input, outfile_mwmout)"
   ]
  },
  {
   "cell_type": "code",
   "execution_count": 16,
   "metadata": {},
   "outputs": [
    {
     "name": "stderr",
     "output_type": "stream",
     "text": [
      "Maximum Weight Matching:   0%|          | 0/4 [00:00<?, ?it/s]\n",
      "  0%|          | 0/4 [00:00<?, ?it/s]\u001b[A\n",
      " 25%|██▌       | 1/4 [16:59<50:59, 1019.73s/it]\u001b[A\n",
      " 50%|█████     | 2/4 [17:11<14:13, 426.64s/it] \u001b[A\n",
      " 75%|███████▌  | 3/4 [17:29<04:00, 240.10s/it]\u001b[A\n",
      "100%|██████████| 4/4 [17:37<00:00, 264.38s/it]\u001b[A\n"
     ]
    }
   ],
   "source": [
    "# inputs for multiprocessing\n",
    "numbers = [i for i in range(1, num_anc)]\n",
    "inputs = zip(mwm_inputs, numbers)\n",
    "\n",
    "start = time.time()\n",
    "\n",
    "# multiprocessing to make workflow faster\n",
    "with tqdm_joblib.tqdm_joblib(tqdm(desc = \"Maximum Weight Matching\", total = len(mwm_inputs))) as progress_bar:\n",
    "    Parallel(n_jobs=(num_anc - 1))(delayed(mwm_matching)(mwm_inputs[i], numbers[i]) for i in range (0, len(mwm_inputs)))\n",
    "\n",
    "end = time.time()"
   ]
  },
  {
   "cell_type": "code",
   "execution_count": 17,
   "metadata": {},
   "outputs": [
    {
     "name": "stdout",
     "output_type": "stream",
     "text": [
      "MWM solution was computed in 17 minutes\n"
     ]
    }
   ],
   "source": [
    "print(\"MWM solution was computed in %d minutes\" % int((end - start)/60))"
   ]
  },
  {
   "cell_type": "markdown",
   "metadata": {},
   "source": [
    "# Section 6: Constructing Ancestral Contigs\n",
    "In order to succesfully construct ancestral contigs, we require:\n",
    "- Successful Maximum Weight Matching on the prepared input data"
   ]
  },
  {
   "cell_type": "markdown",
   "metadata": {},
   "source": [
    "## Creating Contigs"
   ]
  },
  {
   "cell_type": "markdown",
   "metadata": {},
   "source": [
    "Produces the contigs for each ancestor."
   ]
  },
  {
   "cell_type": "code",
   "execution_count": 18,
   "metadata": {},
   "outputs": [
    {
     "name": "stderr",
     "output_type": "stream",
     "text": [
      "\n",
      "  0%|          | 0/4 [00:00<?, ?it/s]\u001b[A\n",
      " 25%|██▌       | 1/4 [00:00<00:00,  7.77it/s]\u001b[A\n",
      " 50%|█████     | 2/4 [00:00<00:00,  8.50it/s]\u001b[A\n",
      " 75%|███████▌  | 3/4 [00:00<00:00,  8.74it/s]\u001b[A\n",
      "100%|██████████| 4/4 [00:00<00:00,  8.81it/s]\u001b[A\n"
     ]
    }
   ],
   "source": [
    "# creating contigs from the maximum weight matching output\n",
    "contig_template = parsed_config['output_file']['contig_template']\n",
    "\n",
    "# string to use for next step\n",
    "dcj_files = []\n",
    "\n",
    "for i in tqdm(range(1, num_anc), total = len(mwm_inputs)):\n",
    "    outfile_mwmout = directory + mwm_output_template + str(i) + \".txt\"\n",
    "    outfile_contig = directory + contig_template + str(i) + \".txt\"\n",
    "    dcj_files.append(outfile_contig)\n",
    "    \n",
    "    contig = Contig(outfile_mwmout, int(num_gene_families))\n",
    "    contig.get_edge()\n",
    "    list_telomeres = contig.find_telomeres()\n",
    "    \n",
    "    contig_list = contig.get_contigs(list_telomeres, outfile_contig, str(i))"
   ]
  },
  {
   "cell_type": "markdown",
   "metadata": {},
   "source": [
    "# Section 7: Calculating DCJ Distance Between Ancestors\n",
    "In order to succesfully calculate the DCJ Distance between ancestors, we require:\n",
    "- Successful creation of ancestral contigs"
   ]
  },
  {
   "cell_type": "markdown",
   "metadata": {},
   "source": [
    "## Calculating DCJ Distance\n"
   ]
  },
  {
   "cell_type": "code",
   "execution_count": 19,
   "metadata": {},
   "outputs": [
    {
     "name": "stderr",
     "output_type": "stream",
     "text": [
      "\n",
      "  0%|          | 0/4 [00:00<?, ?it/s]\u001b[A"
     ]
    },
    {
     "name": "stdout",
     "output_type": "stream",
     "text": [
      "Starting DCJ Calculations, May Take a While\n",
      "Computing DCJ distance between ancestors 1 and 2\n",
      "Computing DCJ distance between ancestors 1 and 3\n",
      "Computing DCJ distance between ancestors 1 and 4\n"
     ]
    },
    {
     "name": "stderr",
     "output_type": "stream",
     "text": [
      "\n",
      " 25%|██▌       | 1/4 [00:37<01:52, 37.38s/it]\u001b[A"
     ]
    },
    {
     "name": "stdout",
     "output_type": "stream",
     "text": [
      "Computing DCJ distance between ancestors 2 and 3\n",
      "Computing DCJ distance between ancestors 2 and 4\n"
     ]
    },
    {
     "name": "stderr",
     "output_type": "stream",
     "text": [
      "\n",
      " 50%|█████     | 2/4 [01:04<01:02, 31.38s/it]\u001b[A"
     ]
    },
    {
     "name": "stdout",
     "output_type": "stream",
     "text": [
      "Computing DCJ distance between ancestors 3 and 4\n"
     ]
    },
    {
     "name": "stderr",
     "output_type": "stream",
     "text": [
      "\n",
      "100%|██████████| 4/4 [01:15<00:00, 18.93s/it]\u001b[A"
     ]
    },
    {
     "name": "stdout",
     "output_type": "stream",
     "text": [
      "Calculation Done\n"
     ]
    },
    {
     "name": "stderr",
     "output_type": "stream",
     "text": [
      "\n"
     ]
    }
   ],
   "source": [
    "jar_path = parsed_config['input_file']['jar_path']\n",
    "\n",
    "dcj_output = []\n",
    "\n",
    "# Calculate DCJ Distance\n",
    "print(\"Starting DCJ Calculations, May Take a While\")\n",
    "\n",
    "for i in tqdm(range(1, num_anc)):\n",
    "    for j in range(i + 1, num_anc):\n",
    "        dcj_output_path = directory + parsed_config['output_file']['dcj_output_path'] + str(i) + \"_\" + str(j) + \".txt\"\n",
    "        command = \"java -jar \" + jar_path + \"/UniMoG-java11.jar \" + str(dcj_files[i - 1]) + \" \" + str(dcj_files[j - 1]) + \" -m=1 -p >\" + dcj_output_path\n",
    "        dcj_output.append(dcj_output_path)\n",
    "        #print(command)\n",
    "        print(\"Computing DCJ distance between ancestors\", i, \"and\", j)\n",
    "        os.system(command)\n",
    "        \n",
    "print(\"Calculation Done\")"
   ]
  },
  {
   "cell_type": "code",
   "execution_count": 20,
   "metadata": {},
   "outputs": [],
   "source": [
    "dcj_summary = directory + parsed_config['output_file']['dcj_summary_path']\n",
    "dcj_matrix = []\n",
    "\n",
    "with open(dcj_summary, 'w') as dcj_summary_file:\n",
    "    for i in range(len(median_structure)):\n",
    "            dcj_summary_file.write(\"Median Structure for Ancestor \" + str((i + 1)) + \": \" + \"%s\" % median_structure[i] + \"\\n\")\n",
    "            \n",
    "    for file in dcj_output:\n",
    "        path = file\n",
    "            \n",
    "        with open(path, 'r') as dcj_file:\n",
    "            dcj_info = dcj_file.readlines()\n",
    "            \n",
    "        dcj_summary_file.write(dcj_info[0])\n",
    "        print(dcj_info[0])\n",
    "        \n",
    "        distance = int((dcj_info[0].split())[-1])\n",
    "        dcj_matrix.append(distance)\n",
    "        \n",
    "print(\"Summay of pairwise DCJ distance -- Done\")"
   ]
  },
  {
   "cell_type": "code",
   "execution_count": null,
   "metadata": {},
   "outputs": [],
   "source": [
    "matrix_indices = [(\"Ancestor \" + str(i)) for i in range (1, num_anc)]\n",
    "dcj_matrix_summary = pd.DataFrame(squareform(dcj_matrix), index=matrix_indices, columns=matrix_indices)\n",
    "dcj_matrix_summary.style.set_caption(\"DCJ Distance Summary Symmetric Matrix\")\n",
    "dcj_matrix_summary"
   ]
  },
  {
   "cell_type": "code",
   "execution_count": null,
   "metadata": {},
   "outputs": [],
   "source": []
  }
 ],
 "metadata": {
  "kernelspec": {
   "display_name": "Python 3",
   "language": "python",
   "name": "python3"
  },
  "language_info": {
   "codemirror_mode": {
    "name": "ipython",
    "version": 3
   },
   "file_extension": ".py",
   "mimetype": "text/x-python",
   "name": "python",
   "nbconvert_exporter": "python",
   "pygments_lexer": "ipython3",
   "version": "3.8.8"
  }
 },
 "nbformat": 4,
 "nbformat_minor": 4
}
